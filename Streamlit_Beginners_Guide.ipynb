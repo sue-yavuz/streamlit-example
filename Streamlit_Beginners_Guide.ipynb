{
 "cells": [
  {
   "cell_type": "markdown",
   "id": "16c14a5b",
   "metadata": {},
   "source": [
    "# A Beginners Guide To Streamlit"
   ]
  },
  {
   "cell_type": "markdown",
   "id": "d0c9e6c9",
   "metadata": {},
   "source": [
    "- https://www.analyticsvidhya.com/blog/2021/06/build-web-app-instantly-for-machine-learning-using-streamlit/\n",
    "- https://www.geeksforgeeks.org/a-beginners-guide-to-streamlit/"
   ]
  },
  {
   "cell_type": "code",
   "execution_count": 10,
   "id": "a061e485",
   "metadata": {},
   "outputs": [],
   "source": [
    "# !pip install -q streamlit\n",
    "import streamlit as st"
   ]
  },
  {
   "cell_type": "code",
   "execution_count": 11,
   "id": "3d672076",
   "metadata": {
    "scrolled": true
   },
   "outputs": [
    {
     "data": {
      "text/plain": [
       "'1.12.2'"
      ]
     },
     "execution_count": 11,
     "metadata": {},
     "output_type": "execute_result"
    }
   ],
   "source": [
    "st.__version__"
   ]
  },
  {
   "cell_type": "code",
   "execution_count": 9,
   "id": "078a2c1d",
   "metadata": {},
   "outputs": [
    {
     "name": "stdout",
     "output_type": "stream",
     "text": [
      "^C\n"
     ]
    }
   ],
   "source": [
    "!streamlit hello"
   ]
  },
  {
   "cell_type": "markdown",
   "id": "68357b29",
   "metadata": {},
   "source": [
    "# First App - Hello World!"
   ]
  },
  {
   "cell_type": "code",
   "execution_count": 4,
   "id": "d50af941",
   "metadata": {},
   "outputs": [
    {
     "name": "stdout",
     "output_type": "stream",
     "text": [
      "Overwriting app.py\n"
     ]
    }
   ],
   "source": [
    "%%writefile app.py\n",
    "\n",
    "import streamlit as st\n",
    "\n",
    "st.title(\"Hi allen! Welcome to Streamlit!\")\n",
    "st.write('Hello World!')"
   ]
  },
  {
   "cell_type": "code",
   "execution_count": null,
   "id": "4dff408a",
   "metadata": {},
   "outputs": [],
   "source": [
    "# windows\n",
    "!dir"
   ]
  },
  {
   "cell_type": "code",
   "execution_count": 6,
   "id": "236175a3",
   "metadata": {},
   "outputs": [
    {
     "name": "stdout",
     "output_type": "stream",
     "text": [
      "^C\n"
     ]
    }
   ],
   "source": [
    "!streamlit run app.py"
   ]
  },
  {
   "cell_type": "markdown",
   "id": "b6adf453",
   "metadata": {},
   "source": [
    "# Web Page App"
   ]
  },
  {
   "cell_type": "code",
   "execution_count": 10,
   "id": "446dd10b",
   "metadata": {},
   "outputs": [
    {
     "name": "stdout",
     "output_type": "stream",
     "text": [
      "Overwriting app.py\n"
     ]
    }
   ],
   "source": [
    "%%writefile app.py\n",
    "\n",
    "import streamlit as st\n",
    "\n",
    "def main():\n",
    "    st.title(\"Awesome Streamlit for ML\")\n",
    "    st.subheader(\"How to run streamlit from Jupyter\")\n",
    "    menu = [\"Home\",\"About\"]\n",
    "    choice = st.sidebar.selectbox('Menu', menu)\n",
    "    \n",
    "    if choice == 'Home':\n",
    "        st.subheader(\"Streamlit From Jupyter\")\n",
    "    else:\n",
    "        # Markdown\n",
    "        st.markdown(\"### This is a markdown\")\n",
    "        selectbox = st.sidebar.selectbox(\n",
    "            \"Select yes or no\",\n",
    "            [\"Yes\", \"No\"]\n",
    "        )\n",
    "        st.write(f\"You selected {selectbox}\")\n",
    "        \n",
    "if __name__ == '__main__':\n",
    "    main()"
   ]
  },
  {
   "cell_type": "code",
   "execution_count": 11,
   "id": "08884bf0",
   "metadata": {},
   "outputs": [
    {
     "name": "stdout",
     "output_type": "stream",
     "text": [
      "^C\n"
     ]
    }
   ],
   "source": [
    "!streamlit run app.py"
   ]
  },
  {
   "cell_type": "code",
   "execution_count": null,
   "id": "defc72b8",
   "metadata": {},
   "outputs": [],
   "source": []
  }
 ],
 "metadata": {
  "kernelspec": {
   "display_name": "Python 3 (ipykernel)",
   "language": "python",
   "name": "python3"
  },
  "language_info": {
   "codemirror_mode": {
    "name": "ipython",
    "version": 3
   },
   "file_extension": ".py",
   "mimetype": "text/x-python",
   "name": "python",
   "nbconvert_exporter": "python",
   "pygments_lexer": "ipython3",
   "version": "3.9.12"
  },
  "toc": {
   "base_numbering": 1,
   "nav_menu": {},
   "number_sections": true,
   "sideBar": true,
   "skip_h1_title": false,
   "title_cell": "Table of Contents",
   "title_sidebar": "Contents",
   "toc_cell": false,
   "toc_position": {},
   "toc_section_display": true,
   "toc_window_display": false
  }
 },
 "nbformat": 4,
 "nbformat_minor": 5
}
